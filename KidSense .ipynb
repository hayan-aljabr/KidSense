{
 "cells": [
  {
   "cell_type": "markdown",
   "metadata": {
    "id": "4XAzofVOKnkZ"
   },
   "source": [
    "## Authorize Google Drive"
   ]
  },
  {
   "cell_type": "code",
   "execution_count": null,
   "metadata": {
    "colab": {
     "base_uri": "https://localhost:8080/"
    },
    "id": "Ak0GEI6ZJjka",
    "outputId": "7398db05-52c9-461d-c7c7-d0d4e401be21"
   },
   "outputs": [
    {
     "name": "stdout",
     "output_type": "stream",
     "text": [
      "Drive already mounted at /content/gdrive; to attempt to forcibly remount, call drive.mount(\"/content/gdrive\", force_remount=True).\n"
     ]
    }
   ],
   "source": [
    "from google.colab import drive\n",
    "\n",
    "drive.mount('/content/gdrive')"
   ]
  },
  {
   "cell_type": "markdown",
   "metadata": {
    "id": "pMOtnNe1Ks-c"
   },
   "source": [
    "## Import necessary libraries"
   ]
  },
  {
   "cell_type": "code",
   "execution_count": null,
   "metadata": {
    "id": "xWB6pYJFwLIy"
   },
   "outputs": [],
   "source": [
    "import tensorflow as tf\n",
    "import tensorflow_hub as hub\n",
    "import numpy as np\n",
    "import pandas as pd\n",
    "from sklearn import model_selection\n",
    "from tensorflow.keras.layers import LSTM\n",
    "from sklearn.model_selection import train_test_split\n",
    "from sklearn.preprocessing import LabelEncoder\n",
    "from tensorflow.keras.utils import to_categorical\n",
    "from sklearn.metrics import accuracy_score, precision_score, recall_score\n",
    "from sklearn.preprocessing import LabelEncoder\n",
    "from tensorflow.keras import regularizers\n",
    "from tensorflow.keras.layers import Reshape, Bidirectional, GRU, Dense, Dropout\n",
    "import matplotlib.pyplot as plt\n",
    "import soundfile as sf\n",
    "import os"
   ]
  },
  {
   "cell_type": "markdown",
   "metadata": {
    "id": "fJe1jxzzRAu_"
   },
   "source": [
    "## Download the ESC-50 dataset"
   ]
  },
  {
   "cell_type": "code",
   "execution_count": null,
   "metadata": {
    "id": "Up-VO_6wwsoU"
   },
   "outputs": [],
   "source": [
    "# url = \"https://github.com/karoldvl/ESC-50/archive/master.tar.gz\"\n",
    "# download_path = \"/content/gdrive/MyDrive/Colab Notebooks/KidSense/ESC-50.tar.gz\"\n",
    "# wget.download(url, download_path)"
   ]
  },
  {
   "cell_type": "markdown",
   "metadata": {
    "id": "FYuTiuzZRLr6"
   },
   "source": [
    "## Extract the downloaded dataset"
   ]
  },
  {
   "cell_type": "code",
   "execution_count": null,
   "metadata": {
    "id": "BoQXoK0tw_sp"
   },
   "outputs": [],
   "source": [
    "# tar = tarfile.open(\"ESC-50.tar.gz\", \"r:gz\")\n",
    "# tar.extractall()\n",
    "# tar.close()"
   ]
  },
  {
   "cell_type": "markdown",
   "metadata": {
    "id": "PjfdporLKUm8"
   },
   "source": [
    "## Check if the dataset has been downloaded"
   ]
  },
  {
   "cell_type": "code",
   "execution_count": null,
   "metadata": {
    "colab": {
     "base_uri": "https://localhost:8080/"
    },
    "id": "bGIqCxSEzDJe",
    "outputId": "1ee9925a-aeaa-4471-9bc9-183a210ddda9"
   },
   "outputs": [
    {
     "data": {
      "text/plain": [
       "['.circleci',\n",
       " 'pytest.ini',\n",
       " 'esc50.gif',\n",
       " '.github',\n",
       " '.gitignore',\n",
       " 'README.md',\n",
       " 'LICENSE',\n",
       " 'meta',\n",
       " 'tests',\n",
       " 'audio',\n",
       " 'requirements.txt',\n",
       " '.ipynb_checkpoints',\n",
       " 'audioTests']"
      ]
     },
     "execution_count": 3,
     "metadata": {},
     "output_type": "execute_result"
    }
   ],
   "source": [
    "os.listdir(\"/content/gdrive/MyDrive/Colab Notebooks/KidSense/ESC-50-master\")"
   ]
  },
  {
   "cell_type": "markdown",
   "metadata": {
    "id": "UCefs2QIMHEJ"
   },
   "source": [
    "\n",
    "## Load the pre-trained model"
   ]
  },
  {
   "cell_type": "code",
   "execution_count": null,
   "metadata": {
    "id": "0xsC8orsCQL6"
   },
   "outputs": [],
   "source": [
    "model = hub.load(\"https://tfhub.dev/google/yamnet/1\")"
   ]
  },
  {
   "cell_type": "markdown",
   "metadata": {
    "id": "bm2FYpRUVweO"
   },
   "source": [
    "## Load and preprocess the ESC-50 dataset"
   ]
  },
  {
   "cell_type": "code",
   "execution_count": null,
   "metadata": {
    "id": "5wU1m0ZQVrzx"
   },
   "outputs": [],
   "source": [
    "metadata_path = \"/content/gdrive/MyDrive/Colab Notebooks/KidSense/ESC-50-master/meta/esc50.csv\"\n",
    "audio_dir = \"/content/gdrive/MyDrive/Colab Notebooks/KidSense/ESC-50-master/audio\"\n",
    "\n",
    "# Load metadata\n",
    "metadata = pd.read_csv(metadata_path)\n",
    "\n",
    "# Load audio data and extract features\n",
    "features = []\n",
    "labels = []\n",
    "\n",
    "# Iterate over each row in the metadata\n",
    "for i, row in metadata.iterrows():\n",
    "    # Get the filename and label from the metadata\n",
    "    filename = row[\"filename\"]\n",
    "    label = row[\"category\"]\n",
    "\n",
    "    # Construct the path to the audio file\n",
    "    audio_path = f\"{audio_dir}/{filename}\"\n",
    "\n",
    "    # Decode the waveform and obtain the sample rate\n",
    "    waveform, sample_rate = tf.audio.decode_wav(tf.io.read_file(audio_path))\n",
    "    waveform = tf.squeeze(waveform)\n",
    "    waveform = waveform / tf.abs(waveform).numpy().max()  # Normalize waveform\n",
    "\n",
    "    # Extract features using YAMNet\n",
    "    scores, embeddings, spectrogram = model(waveform)\n",
    "    averaged_embedding = tf.reduce_mean(embeddings, axis=0).numpy()\n",
    "\n",
    "    # Append the features, label, and fold to the lists\n",
    "    features.append(averaged_embedding)\n",
    "    labels.append(label)\n",
    "\n",
    "\n",
    "# Convert features, label, and folds lists to numpy arrays\n",
    "features = np.array(features)\n",
    "labels = np.array(labels)"
   ]
  },
  {
   "cell_type": "markdown",
   "metadata": {
    "id": "-BHQwiO9WcI7"
   },
   "source": [
    "## Split the dataset into training and testing sets"
   ]
  },
  {
   "cell_type": "code",
   "execution_count": null,
   "metadata": {
    "id": "oPkgut0pWdfd"
   },
   "outputs": [],
   "source": [
    "X_train, X_test, y_train, y_test = train_test_split(features, labels, test_size=0.2, random_state=42)"
   ]
  },
  {
   "cell_type": "markdown",
   "metadata": {
    "id": "oHXeqWKsWnDC"
   },
   "source": [
    "## Encode the categorical labels"
   ]
  },
  {
   "cell_type": "code",
   "execution_count": null,
   "metadata": {
    "id": "GW3_g6AfWor4"
   },
   "outputs": [],
   "source": [
    "# Convert the target labels to integer-encoded form\n",
    "label_encoder = LabelEncoder()\n",
    "y_train_encoded = label_encoder.fit_transform(y_train)\n",
    "y_test_encoded = label_encoder.transform(y_test)"
   ]
  },
  {
   "cell_type": "markdown",
   "metadata": {
    "id": "_jh3aDYUi0Yv"
   },
   "source": [
    "## One-hot encode the target labels"
   ]
  },
  {
   "cell_type": "code",
   "execution_count": null,
   "metadata": {
    "id": "rDeI9TVgWM8f"
   },
   "outputs": [],
   "source": [
    "num_classes = len(label_encoder.classes_)\n",
    "y_train_one_hot = to_categorical(y_train_encoded, num_classes)\n",
    "y_test_one_hot = to_categorical(y_test_encoded, num_classes)"
   ]
  },
  {
   "cell_type": "markdown",
   "metadata": {
    "id": "iVv0kjO-i934"
   },
   "source": [
    "## Reshape the feature arrays to match the input shape of the model"
   ]
  },
  {
   "cell_type": "code",
   "execution_count": null,
   "metadata": {
    "id": "Q92bwUGkjARp"
   },
   "outputs": [],
   "source": [
    "X_train_reshaped = X_train.reshape(X_train.shape[0], 1, 1, X_train.shape[1])\n",
    "X_test_reshaped = X_test.reshape(X_test.shape[0], 1, 1, X_test.shape[1])"
   ]
  },
  {
   "cell_type": "markdown",
   "metadata": {
    "id": "4ZSU5DIqXGuv"
   },
   "source": [
    "## Define and compile the CNN model"
   ]
  },
  {
   "cell_type": "code",
   "execution_count": null,
   "metadata": {
    "id": "97HDZ-N0XH7v"
   },
   "outputs": [],
   "source": [
    "my_model = tf.keras.Sequential([\n",
    "    tf.keras.layers.Conv2D(64, (1, 1), activation='relu', input_shape=(1, 1, features.shape[1])),\n",
    "    tf.keras.layers.MaxPooling2D((1, 1)),\n",
    "    tf.keras.layers.BatchNormalization(),\n",
    "    tf.keras.layers.Flatten(),\n",
    "    tf.keras.layers.Reshape((1, -1)),  # Reshape for RNN input\n",
    "\n",
    "    # Add recurrent layers (e.g., LSTM or GRU)\n",
    "    Bidirectional(GRU(64, return_sequences=True)),\n",
    "    Bidirectional(GRU(64)),\n",
    "    Dropout(0.3),\n",
    "\n",
    "    Dense(64, activation='relu'),\n",
    "    Dropout(0.2),\n",
    "\n",
    "    Dense(64, activation='relu'),\n",
    "    Dropout(0.2),\n",
    "\n",
    "    Dense(num_classes, activation='softmax')\n",
    "])\n",
    "my_model.compile(optimizer='Adamax', loss='categorical_crossentropy', metrics=['accuracy'])\n",
    "\n"
   ]
  },
  {
   "cell_type": "markdown",
   "metadata": {
    "id": "ZlKjVpf7msz_"
   },
   "source": [
    "# **TRUE CNN model**"
   ]
  },
  {
   "cell_type": "code",
   "execution_count": null,
   "metadata": {
    "id": "MLQE_bG9m570"
   },
   "outputs": [],
   "source": [
    "my_model = tf.keras.Sequential([\n",
    "    tf.keras.layers.Conv2D(32, (1, 1), activation='relu', input_shape=(1, 1, features.shape[1])),\n",
    "    tf.keras.layers.Dropout(0.25),\n",
    "    tf.keras.layers.BatchNormalization(),\n",
    "\n",
    "    tf.keras.layers.Conv2D(64, (1, 1), activation='relu'),\n",
    "    tf.keras.layers.Dropout(0.25),\n",
    "    tf.keras.layers.BatchNormalization(),\n",
    "\n",
    "    tf.keras.layers.Flatten(),\n",
    "\n",
    "    tf.keras.layers.Dense(256, activation='relu', kernel_regularizer=regularizers.l2(0.001)),\n",
    "    tf.keras.layers.Dropout(0.5),\n",
    "    tf.keras.layers.Dense(128, activation='relu', kernel_regularizer=regularizers.l2(0.01)),\n",
    "    tf.keras.layers.Dropout(0.5),\n",
    "    tf.keras.layers.Dense(num_classes, activation='softmax')\n",
    "])\n",
    "\n",
    "early_stopping = tf.keras.callbacks.EarlyStopping(monitor='val_loss', patience=5)\n",
    "\n",
    "my_model.compile(optimizer='Adamax', loss='categorical_crossentropy', metrics=['accuracy'])\n",
    "\n"
   ]
  },
  {
   "cell_type": "markdown",
   "metadata": {
    "id": "WP_Cvrtu0Asu"
   },
   "source": [
    "# RNN model"
   ]
  },
  {
   "cell_type": "code",
   "execution_count": null,
   "metadata": {
    "id": "vsS11eVez_li"
   },
   "outputs": [],
   "source": [
    "my_model = tf.keras.Sequential([\n",
    "    tf.keras.layers.Reshape((1, -1), input_shape=(1, 1, features.shape[1])),  # Reshape for RNN input\n",
    "\n",
    "    # Add recurrent layers (e.g., LSTM or GRU)\n",
    "    tf.keras.layers.Bidirectional(tf.keras.layers.GRU(256, return_sequences=True)),\n",
    "    tf.keras.layers.Bidirectional(tf.keras.layers.GRU(128, return_sequences=True)),\n",
    "    tf.keras.layers.Bidirectional(tf.keras.layers.GRU(128)),\n",
    "    #tf.keras.layers.Dropout(0.4),\n",
    "\n",
    "    tf.keras.layers.Dense(128, activation='relu'),\n",
    "    tf.keras.layers.Dropout(0.1),\n",
    "\n",
    "    tf.keras.layers.Dense(64, activation='relu'),\n",
    "    tf.keras.layers.Dropout(0.4),\n",
    "\n",
    "    tf.keras.layers.Dense(num_classes, activation='softmax')\n",
    "])\n",
    "\n",
    "my_model.compile(optimizer='Adamax', loss='categorical_crossentropy', metrics=['accuracy'])\n"
   ]
  },
  {
   "cell_type": "code",
   "execution_count": null,
   "metadata": {
    "id": "DFod2zCad2bw"
   },
   "outputs": [],
   "source": [
    "from tensorflow.keras.models import Sequential\n",
    "from tensorflow.keras.layers import Reshape, Bidirectional, GRU, Dense, Dropout\n",
    "from tensorflow.keras.optimizers import Adamax\n",
    "\n",
    "my_model = Sequential([\n",
    "    tf.keras.layers.Reshape((1, -1), input_shape=(1, 1, features.shape[1])),  # Reshape for RNN input\n",
    "\n",
    "    # Add recurrent layers (e.g., LSTM or GRU)\n",
    "    Bidirectional(GRU(256, return_sequences=True)),\n",
    "    Bidirectional(GRU(128, return_sequences=True)),\n",
    "    Bidirectional(GRU(128)),\n",
    "    Dropout(0.4),\n",
    "\n",
    "    Dense(128, activation='relu'),\n",
    "    Dropout(0.1),\n",
    "\n",
    "    Dense(64, activation='relu'),\n",
    "    Dropout(0.4),\n",
    "\n",
    "    Dense(num_classes, activation='softmax')\n",
    "])\n",
    "\n",
    "my_model.compile(optimizer=\"Adamax\", loss='categorical_crossentropy', metrics=['accuracy'])\n"
   ]
  },
  {
   "cell_type": "markdown",
   "metadata": {
    "id": "j4NFzCP6XLCK"
   },
   "source": [
    "## Train the CNN model"
   ]
  },
  {
   "cell_type": "code",
   "execution_count": null,
   "metadata": {
    "colab": {
     "base_uri": "https://localhost:8080/"
    },
    "id": "x9OWICFkXO3J",
    "outputId": "4648acf3-05f3-4229-acd2-619490f734e2"
   },
   "outputs": [
    {
     "name": "stdout",
     "output_type": "stream",
     "text": [
      "Epoch 1/100\n",
      "1/1 [==============================] - 17s 17s/step - loss: 1.1116 - accuracy: 0.2500 - val_loss: 1.1143 - val_accuracy: 0.2500\n",
      "Epoch 2/100\n",
      "1/1 [==============================] - 0s 73ms/step - loss: 1.0389 - accuracy: 0.5521 - val_loss: 1.0964 - val_accuracy: 0.3333\n",
      "Epoch 3/100\n",
      "1/1 [==============================] - 0s 57ms/step - loss: 1.0001 - accuracy: 0.5833 - val_loss: 1.0719 - val_accuracy: 0.6667\n",
      "Epoch 4/100\n",
      "1/1 [==============================] - 0s 56ms/step - loss: 0.9650 - accuracy: 0.6458 - val_loss: 1.0477 - val_accuracy: 0.5833\n",
      "Epoch 5/100\n",
      "1/1 [==============================] - 0s 52ms/step - loss: 0.9275 - accuracy: 0.6667 - val_loss: 1.0299 - val_accuracy: 0.5833\n",
      "Epoch 6/100\n",
      "1/1 [==============================] - 0s 52ms/step - loss: 0.8929 - accuracy: 0.6667 - val_loss: 1.0117 - val_accuracy: 0.5833\n",
      "Epoch 7/100\n",
      "1/1 [==============================] - 0s 55ms/step - loss: 0.8503 - accuracy: 0.6250 - val_loss: 0.9925 - val_accuracy: 0.5833\n",
      "Epoch 8/100\n",
      "1/1 [==============================] - 0s 57ms/step - loss: 0.8485 - accuracy: 0.6458 - val_loss: 0.9733 - val_accuracy: 0.5833\n",
      "Epoch 9/100\n",
      "1/1 [==============================] - 0s 54ms/step - loss: 0.7873 - accuracy: 0.6979 - val_loss: 0.9538 - val_accuracy: 0.5833\n",
      "Epoch 10/100\n",
      "1/1 [==============================] - 0s 56ms/step - loss: 0.7798 - accuracy: 0.6250 - val_loss: 0.9341 - val_accuracy: 0.5833\n",
      "Epoch 11/100\n",
      "1/1 [==============================] - 0s 77ms/step - loss: 0.7362 - accuracy: 0.6875 - val_loss: 0.9135 - val_accuracy: 0.5833\n",
      "Epoch 12/100\n",
      "1/1 [==============================] - 0s 56ms/step - loss: 0.7284 - accuracy: 0.6979 - val_loss: 0.8921 - val_accuracy: 0.5833\n",
      "Epoch 13/100\n",
      "1/1 [==============================] - 0s 69ms/step - loss: 0.6947 - accuracy: 0.6979 - val_loss: 0.8694 - val_accuracy: 0.5833\n",
      "Epoch 14/100\n",
      "1/1 [==============================] - 0s 62ms/step - loss: 0.6729 - accuracy: 0.6979 - val_loss: 0.8464 - val_accuracy: 0.5833\n",
      "Epoch 15/100\n",
      "1/1 [==============================] - 0s 54ms/step - loss: 0.6328 - accuracy: 0.7708 - val_loss: 0.8251 - val_accuracy: 0.5833\n",
      "Epoch 16/100\n",
      "1/1 [==============================] - 0s 70ms/step - loss: 0.6418 - accuracy: 0.7292 - val_loss: 0.8065 - val_accuracy: 0.5833\n",
      "Epoch 17/100\n",
      "1/1 [==============================] - 0s 70ms/step - loss: 0.6182 - accuracy: 0.6979 - val_loss: 0.7874 - val_accuracy: 0.5833\n",
      "Epoch 18/100\n",
      "1/1 [==============================] - 0s 72ms/step - loss: 0.5900 - accuracy: 0.7708 - val_loss: 0.7680 - val_accuracy: 0.5833\n",
      "Epoch 19/100\n",
      "1/1 [==============================] - 0s 52ms/step - loss: 0.5722 - accuracy: 0.7604 - val_loss: 0.7500 - val_accuracy: 0.5833\n",
      "Epoch 20/100\n",
      "1/1 [==============================] - 0s 68ms/step - loss: 0.5807 - accuracy: 0.7604 - val_loss: 0.7351 - val_accuracy: 0.5833\n",
      "Epoch 21/100\n",
      "1/1 [==============================] - 0s 59ms/step - loss: 0.5636 - accuracy: 0.7083 - val_loss: 0.7221 - val_accuracy: 0.5833\n",
      "Epoch 22/100\n",
      "1/1 [==============================] - 0s 58ms/step - loss: 0.5283 - accuracy: 0.7917 - val_loss: 0.7090 - val_accuracy: 0.5833\n",
      "Epoch 23/100\n",
      "1/1 [==============================] - 0s 54ms/step - loss: 0.5340 - accuracy: 0.7604 - val_loss: 0.6956 - val_accuracy: 0.5833\n",
      "Epoch 24/100\n",
      "1/1 [==============================] - 0s 69ms/step - loss: 0.4992 - accuracy: 0.8229 - val_loss: 0.6822 - val_accuracy: 0.5833\n",
      "Epoch 25/100\n",
      "1/1 [==============================] - 0s 54ms/step - loss: 0.4937 - accuracy: 0.8021 - val_loss: 0.6703 - val_accuracy: 0.5833\n",
      "Epoch 26/100\n",
      "1/1 [==============================] - 0s 61ms/step - loss: 0.4707 - accuracy: 0.7812 - val_loss: 0.6610 - val_accuracy: 0.5833\n",
      "Epoch 27/100\n",
      "1/1 [==============================] - 0s 69ms/step - loss: 0.4568 - accuracy: 0.8542 - val_loss: 0.6532 - val_accuracy: 0.5833\n",
      "Epoch 28/100\n",
      "1/1 [==============================] - 0s 70ms/step - loss: 0.4477 - accuracy: 0.8125 - val_loss: 0.6460 - val_accuracy: 0.5833\n",
      "Epoch 29/100\n",
      "1/1 [==============================] - 0s 71ms/step - loss: 0.4479 - accuracy: 0.8229 - val_loss: 0.6387 - val_accuracy: 0.5833\n",
      "Epoch 30/100\n",
      "1/1 [==============================] - 0s 76ms/step - loss: 0.4308 - accuracy: 0.7917 - val_loss: 0.6304 - val_accuracy: 0.5833\n",
      "Epoch 31/100\n",
      "1/1 [==============================] - 0s 76ms/step - loss: 0.4168 - accuracy: 0.8229 - val_loss: 0.6225 - val_accuracy: 0.5833\n",
      "Epoch 32/100\n",
      "1/1 [==============================] - 0s 69ms/step - loss: 0.3975 - accuracy: 0.8542 - val_loss: 0.6168 - val_accuracy: 0.6250\n",
      "Epoch 33/100\n",
      "1/1 [==============================] - 0s 67ms/step - loss: 0.3779 - accuracy: 0.9167 - val_loss: 0.6115 - val_accuracy: 0.7500\n",
      "Epoch 34/100\n",
      "1/1 [==============================] - 0s 85ms/step - loss: 0.3918 - accuracy: 0.8646 - val_loss: 0.6069 - val_accuracy: 0.7917\n",
      "Epoch 35/100\n",
      "1/1 [==============================] - 0s 65ms/step - loss: 0.3524 - accuracy: 0.8854 - val_loss: 0.6030 - val_accuracy: 0.8333\n",
      "Epoch 36/100\n",
      "1/1 [==============================] - 0s 65ms/step - loss: 0.3223 - accuracy: 0.8854 - val_loss: 0.5917 - val_accuracy: 0.8333\n",
      "Epoch 37/100\n",
      "1/1 [==============================] - 0s 79ms/step - loss: 0.3196 - accuracy: 0.9062 - val_loss: 0.5806 - val_accuracy: 0.7917\n",
      "Epoch 38/100\n",
      "1/1 [==============================] - 0s 63ms/step - loss: 0.3188 - accuracy: 0.8958 - val_loss: 0.5748 - val_accuracy: 0.7917\n",
      "Epoch 39/100\n",
      "1/1 [==============================] - 0s 92ms/step - loss: 0.2798 - accuracy: 0.9583 - val_loss: 0.5645 - val_accuracy: 0.7917\n",
      "Epoch 40/100\n",
      "1/1 [==============================] - 0s 89ms/step - loss: 0.2782 - accuracy: 0.8854 - val_loss: 0.5550 - val_accuracy: 0.7917\n",
      "Epoch 41/100\n",
      "1/1 [==============================] - 0s 77ms/step - loss: 0.2638 - accuracy: 0.9583 - val_loss: 0.5490 - val_accuracy: 0.8750\n",
      "Epoch 42/100\n",
      "1/1 [==============================] - 0s 56ms/step - loss: 0.2618 - accuracy: 0.9479 - val_loss: 0.5441 - val_accuracy: 0.8750\n",
      "Epoch 43/100\n",
      "1/1 [==============================] - 0s 91ms/step - loss: 0.2181 - accuracy: 1.0000 - val_loss: 0.5327 - val_accuracy: 0.8750\n",
      "Epoch 44/100\n",
      "1/1 [==============================] - 0s 76ms/step - loss: 0.2236 - accuracy: 0.9792 - val_loss: 0.5190 - val_accuracy: 0.9167\n",
      "Epoch 45/100\n",
      "1/1 [==============================] - 0s 74ms/step - loss: 0.1983 - accuracy: 0.9896 - val_loss: 0.5049 - val_accuracy: 0.9167\n",
      "Epoch 46/100\n",
      "1/1 [==============================] - 0s 72ms/step - loss: 0.1893 - accuracy: 0.9688 - val_loss: 0.4906 - val_accuracy: 0.8750\n",
      "Epoch 47/100\n",
      "1/1 [==============================] - 0s 74ms/step - loss: 0.1509 - accuracy: 0.9896 - val_loss: 0.4831 - val_accuracy: 0.9167\n",
      "Epoch 48/100\n",
      "1/1 [==============================] - 0s 74ms/step - loss: 0.1621 - accuracy: 0.9896 - val_loss: 0.4858 - val_accuracy: 0.9167\n",
      "Epoch 49/100\n",
      "1/1 [==============================] - 0s 75ms/step - loss: 0.1519 - accuracy: 0.9896 - val_loss: 0.4757 - val_accuracy: 0.9167\n",
      "Epoch 50/100\n",
      "1/1 [==============================] - 0s 72ms/step - loss: 0.1506 - accuracy: 1.0000 - val_loss: 0.4635 - val_accuracy: 0.9167\n",
      "Epoch 51/100\n",
      "1/1 [==============================] - 0s 90ms/step - loss: 0.1128 - accuracy: 1.0000 - val_loss: 0.4388 - val_accuracy: 0.9583\n",
      "Epoch 52/100\n",
      "1/1 [==============================] - 0s 126ms/step - loss: 0.1115 - accuracy: 1.0000 - val_loss: 0.4245 - val_accuracy: 1.0000\n",
      "Epoch 53/100\n",
      "1/1 [==============================] - 0s 93ms/step - loss: 0.0938 - accuracy: 1.0000 - val_loss: 0.4259 - val_accuracy: 0.9583\n",
      "Epoch 54/100\n",
      "1/1 [==============================] - 0s 106ms/step - loss: 0.1006 - accuracy: 0.9792 - val_loss: 0.4217 - val_accuracy: 0.9583\n",
      "Epoch 55/100\n",
      "1/1 [==============================] - 0s 97ms/step - loss: 0.0836 - accuracy: 1.0000 - val_loss: 0.4100 - val_accuracy: 1.0000\n",
      "Epoch 56/100\n",
      "1/1 [==============================] - 0s 107ms/step - loss: 0.0755 - accuracy: 1.0000 - val_loss: 0.3959 - val_accuracy: 1.0000\n",
      "Epoch 57/100\n",
      "1/1 [==============================] - 0s 101ms/step - loss: 0.0617 - accuracy: 1.0000 - val_loss: 0.4027 - val_accuracy: 0.9583\n",
      "Epoch 58/100\n",
      "1/1 [==============================] - 0s 96ms/step - loss: 0.0631 - accuracy: 1.0000 - val_loss: 0.3915 - val_accuracy: 0.9167\n",
      "Epoch 59/100\n",
      "1/1 [==============================] - 0s 93ms/step - loss: 0.0551 - accuracy: 0.9896 - val_loss: 0.3495 - val_accuracy: 1.0000\n",
      "Epoch 60/100\n",
      "1/1 [==============================] - 0s 93ms/step - loss: 0.0470 - accuracy: 1.0000 - val_loss: 0.3327 - val_accuracy: 1.0000\n",
      "Epoch 61/100\n",
      "1/1 [==============================] - 0s 111ms/step - loss: 0.0326 - accuracy: 1.0000 - val_loss: 0.3269 - val_accuracy: 1.0000\n",
      "Epoch 62/100\n",
      "1/1 [==============================] - 0s 98ms/step - loss: 0.0300 - accuracy: 1.0000 - val_loss: 0.3362 - val_accuracy: 0.9583\n",
      "Epoch 63/100\n",
      "1/1 [==============================] - 0s 90ms/step - loss: 0.0300 - accuracy: 1.0000 - val_loss: 0.3123 - val_accuracy: 1.0000\n",
      "Epoch 64/100\n",
      "1/1 [==============================] - 0s 97ms/step - loss: 0.0360 - accuracy: 1.0000 - val_loss: 0.2850 - val_accuracy: 1.0000\n",
      "Epoch 65/100\n",
      "1/1 [==============================] - 0s 106ms/step - loss: 0.0281 - accuracy: 1.0000 - val_loss: 0.2855 - val_accuracy: 1.0000\n",
      "Epoch 66/100\n",
      "1/1 [==============================] - 0s 102ms/step - loss: 0.0262 - accuracy: 1.0000 - val_loss: 0.2996 - val_accuracy: 0.9583\n",
      "Epoch 67/100\n",
      "1/1 [==============================] - 0s 104ms/step - loss: 0.0268 - accuracy: 1.0000 - val_loss: 0.2964 - val_accuracy: 0.9583\n",
      "Epoch 68/100\n",
      "1/1 [==============================] - 0s 100ms/step - loss: 0.0205 - accuracy: 1.0000 - val_loss: 0.2819 - val_accuracy: 0.9583\n",
      "Epoch 69/100\n",
      "1/1 [==============================] - 0s 100ms/step - loss: 0.0232 - accuracy: 1.0000 - val_loss: 0.2691 - val_accuracy: 0.9583\n",
      "Epoch 70/100\n",
      "1/1 [==============================] - 0s 112ms/step - loss: 0.0130 - accuracy: 1.0000 - val_loss: 0.2528 - val_accuracy: 1.0000\n",
      "Epoch 71/100\n",
      "1/1 [==============================] - 0s 100ms/step - loss: 0.0130 - accuracy: 1.0000 - val_loss: 0.2435 - val_accuracy: 1.0000\n",
      "Epoch 72/100\n",
      "1/1 [==============================] - 0s 90ms/step - loss: 0.0139 - accuracy: 1.0000 - val_loss: 0.2429 - val_accuracy: 1.0000\n",
      "Epoch 73/100\n",
      "1/1 [==============================] - 0s 74ms/step - loss: 0.0113 - accuracy: 1.0000 - val_loss: 0.2380 - val_accuracy: 1.0000\n",
      "Epoch 74/100\n",
      "1/1 [==============================] - 0s 91ms/step - loss: 0.0121 - accuracy: 1.0000 - val_loss: 0.2274 - val_accuracy: 1.0000\n",
      "Epoch 75/100\n",
      "1/1 [==============================] - 0s 85ms/step - loss: 0.0140 - accuracy: 1.0000 - val_loss: 0.2217 - val_accuracy: 1.0000\n",
      "Epoch 76/100\n",
      "1/1 [==============================] - 0s 92ms/step - loss: 0.0111 - accuracy: 1.0000 - val_loss: 0.2139 - val_accuracy: 1.0000\n",
      "Epoch 77/100\n",
      "1/1 [==============================] - 0s 72ms/step - loss: 0.0083 - accuracy: 1.0000 - val_loss: 0.2030 - val_accuracy: 1.0000\n",
      "Epoch 78/100\n",
      "1/1 [==============================] - 0s 85ms/step - loss: 0.0086 - accuracy: 1.0000 - val_loss: 0.1966 - val_accuracy: 1.0000\n",
      "Epoch 79/100\n",
      "1/1 [==============================] - 0s 86ms/step - loss: 0.0075 - accuracy: 1.0000 - val_loss: 0.1910 - val_accuracy: 1.0000\n",
      "Epoch 80/100\n",
      "1/1 [==============================] - 0s 84ms/step - loss: 0.0106 - accuracy: 1.0000 - val_loss: 0.2057 - val_accuracy: 1.0000\n",
      "Epoch 81/100\n",
      "1/1 [==============================] - 0s 71ms/step - loss: 0.0083 - accuracy: 1.0000 - val_loss: 0.2162 - val_accuracy: 1.0000\n",
      "Epoch 82/100\n",
      "1/1 [==============================] - 0s 98ms/step - loss: 0.0093 - accuracy: 1.0000 - val_loss: 0.2046 - val_accuracy: 1.0000\n",
      "Epoch 83/100\n",
      "1/1 [==============================] - 0s 94ms/step - loss: 0.0099 - accuracy: 1.0000 - val_loss: 0.1817 - val_accuracy: 1.0000\n",
      "Epoch 84/100\n",
      "1/1 [==============================] - 0s 98ms/step - loss: 0.0045 - accuracy: 1.0000 - val_loss: 0.1611 - val_accuracy: 1.0000\n",
      "Epoch 85/100\n",
      "1/1 [==============================] - 0s 99ms/step - loss: 0.0056 - accuracy: 1.0000 - val_loss: 0.1475 - val_accuracy: 1.0000\n",
      "Epoch 86/100\n",
      "1/1 [==============================] - 0s 100ms/step - loss: 0.0065 - accuracy: 1.0000 - val_loss: 0.1397 - val_accuracy: 1.0000\n",
      "Epoch 87/100\n",
      "1/1 [==============================] - 0s 102ms/step - loss: 0.0073 - accuracy: 1.0000 - val_loss: 0.1331 - val_accuracy: 1.0000\n",
      "Epoch 88/100\n",
      "1/1 [==============================] - 0s 102ms/step - loss: 0.0059 - accuracy: 1.0000 - val_loss: 0.1312 - val_accuracy: 1.0000\n",
      "Epoch 89/100\n",
      "1/1 [==============================] - 0s 107ms/step - loss: 0.0052 - accuracy: 1.0000 - val_loss: 0.1389 - val_accuracy: 1.0000\n",
      "Epoch 90/100\n",
      "1/1 [==============================] - 0s 101ms/step - loss: 0.0052 - accuracy: 1.0000 - val_loss: 0.1483 - val_accuracy: 1.0000\n",
      "Epoch 91/100\n",
      "1/1 [==============================] - 0s 89ms/step - loss: 0.0034 - accuracy: 1.0000 - val_loss: 0.1558 - val_accuracy: 1.0000\n",
      "Epoch 92/100\n",
      "1/1 [==============================] - 0s 109ms/step - loss: 0.0051 - accuracy: 1.0000 - val_loss: 0.1556 - val_accuracy: 1.0000\n",
      "Epoch 93/100\n",
      "1/1 [==============================] - 0s 91ms/step - loss: 0.0055 - accuracy: 1.0000 - val_loss: 0.1345 - val_accuracy: 1.0000\n",
      "Epoch 94/100\n",
      "1/1 [==============================] - 0s 63ms/step - loss: 0.0081 - accuracy: 1.0000 - val_loss: 0.1175 - val_accuracy: 1.0000\n",
      "Epoch 95/100\n",
      "1/1 [==============================] - 0s 82ms/step - loss: 0.0060 - accuracy: 1.0000 - val_loss: 0.1089 - val_accuracy: 1.0000\n",
      "Epoch 96/100\n",
      "1/1 [==============================] - 0s 84ms/step - loss: 0.0034 - accuracy: 1.0000 - val_loss: 0.1054 - val_accuracy: 1.0000\n",
      "Epoch 97/100\n",
      "1/1 [==============================] - 0s 67ms/step - loss: 0.0071 - accuracy: 1.0000 - val_loss: 0.1063 - val_accuracy: 1.0000\n",
      "Epoch 98/100\n",
      "1/1 [==============================] - 0s 82ms/step - loss: 0.0049 - accuracy: 1.0000 - val_loss: 0.1055 - val_accuracy: 1.0000\n",
      "Epoch 99/100\n",
      "1/1 [==============================] - 0s 87ms/step - loss: 0.0045 - accuracy: 1.0000 - val_loss: 0.1050 - val_accuracy: 1.0000\n",
      "Epoch 100/100\n",
      "1/1 [==============================] - 0s 67ms/step - loss: 0.0085 - accuracy: 1.0000 - val_loss: 0.1048 - val_accuracy: 1.0000\n"
     ]
    }
   ],
   "source": [
    "batch_size = 256\n",
    "epochs = 100\n",
    "\n",
    "history = my_model.fit(X_train_reshaped, y_train_one_hot,\n",
    "                       batch_size=batch_size, epochs=epochs,\n",
    "                       validation_data=(X_test_reshaped, y_test_one_hot))\n"
   ]
  },
  {
   "cell_type": "code",
   "execution_count": null,
   "metadata": {
    "colab": {
     "base_uri": "https://localhost:8080/"
    },
    "id": "_aXHzNjkUvn9",
    "outputId": "2028f95b-1b82-492e-8828-cb5fd485df7a"
   },
   "outputs": [
    {
     "name": "stderr",
     "output_type": "stream",
     "text": [
      "WARNING:absl:Found untraced functions such as _jit_compiled_convolution_op, _update_step_xla, lstm_cell_7_layer_call_fn, lstm_cell_7_layer_call_and_return_conditional_losses, lstm_cell_8_layer_call_fn while saving (showing 5 of 10). These functions will not be directly callable after loading.\n"
     ]
    }
   ],
   "source": [
    "# # tf.saved_model.save(my_model, '/content/saved_model')\n",
    "# # Convert the SavedModel to TensorFlow Lite format\n",
    "# converter = tf.lite.TFLiteConverter.from_saved_model('/content/saved_model')\n",
    "\n",
    "# # Enable support for select TensorFlow ops and disable lowering tensor list ops\n",
    "# converter.target_spec.supported_ops = [tf.lite.OpsSet.TFLITE_BUILTINS, tf.lite.OpsSet.SELECT_TF_OPS]\n",
    "# converter._experimental_lower_tensor_list_ops = False\n",
    "\n",
    "# # Convert the model\n",
    "# tflite_model = converter.convert()\n",
    "\n",
    "# # Save the TensorFlow Lite model\n",
    "# with open('/content/tflite_model.tflite', 'wb') as f:\n",
    "#     f.write(tflite_model)\n",
    "\n",
    "saved_model_path = '/content/model'\n",
    "tf.saved_model.save(my_model, saved_model_path)"
   ]
  },
  {
   "cell_type": "code",
   "execution_count": null,
   "metadata": {
    "id": "PJPDetyRvStf"
   },
   "outputs": [],
   "source": [
    "my_model.save('/content/model.h5')"
   ]
  },
  {
   "cell_type": "code",
   "execution_count": null,
   "metadata": {
    "id": "-GnMhIL4RK1C"
   },
   "outputs": [],
   "source": [
    "model = tf.keras.models.load_model('/content/model.h5')\n",
    "converter = tf.lite.TFLiteConverter.from_keras_model(model)\n",
    "tflite_model = converter.convert()\n",
    "\n",
    "with open('model.tflite', 'wb') as f:\n",
    "    f.write(tflite_model)"
   ]
  },
  {
   "cell_type": "code",
   "execution_count": null,
   "metadata": {
    "colab": {
     "base_uri": "https://localhost:8080/",
     "height": 38
    },
    "id": "HfOiFHBsxuGU",
    "outputId": "0ce851cc-a951-4730-83fd-73132225fa21"
   },
   "outputs": [
    {
     "data": {
      "application/vnd.google.colaboratory.intrinsic+json": {
       "type": "string"
      },
      "text/plain": [
       "'8.4.3.1'"
      ]
     },
     "execution_count": 40,
     "metadata": {},
     "output_type": "execute_result"
    }
   ],
   "source": [
    "!tensorflowjs_converter --input_format=keras /content/model.h5 /content/tfjs/model"
   ]
  },
  {
   "cell_type": "markdown",
   "metadata": {
    "id": "ki-St2PDXWFd"
   },
   "source": [
    "## Evaluate the CNN model on the test set"
   ]
  },
  {
   "cell_type": "code",
   "execution_count": null,
   "metadata": {
    "colab": {
     "base_uri": "https://localhost:8080/",
     "height": 356
    },
    "id": "c1B_dw-MXX5p",
    "outputId": "0fc37a24-e467-409e-d66e-57302e013d3a"
   },
   "outputs": [
    {
     "data": {
      "image/png": "[encoded data removed]",
      "text/plain": [
       "<Figure size 1200x400 with 2 Axes>"
      ]
     },
     "metadata": {},
     "output_type": "display_data"
    }
   ],
   "source": [
    "accuracy = history.history['accuracy']\n",
    "val_accuracy = history.history['val_accuracy']\n",
    "loss = history.history['loss']\n",
    "val_loss = history.history['val_loss']\n",
    "\n",
    "epochs_range = range(epochs)\n",
    "\n",
    "plt.figure(figsize=(12, 4))\n",
    "plt.subplot(1, 2, 1)\n",
    "plt.plot(epochs_range, accuracy, label='Training Accuracy')\n",
    "plt.plot(epochs_range, val_accuracy, label='Validation Accuracy')\n",
    "plt.legend(loc='best')\n",
    "plt.title('Accuracy')\n",
    "plt.xlabel('Epoch')\n",
    "plt.ylabel('Accuracy')\n",
    "\n",
    "plt.subplot(1, 2, 2)\n",
    "plt.plot(epochs_range, loss, label='Training Loss')\n",
    "plt.plot(epochs_range, val_loss, label='Validation Loss')\n",
    "plt.legend(loc='best')\n",
    "plt.title('Loss')\n",
    "plt.xlabel('Epoch')\n",
    "plt.ylabel('Loss')\n",
    "\n",
    "plt.tight_layout()\n",
    "plt.show()"
   ]
  },
  {
   "cell_type": "markdown",
   "metadata": {
    "id": "596MH98L7SLb"
   },
   "source": [
    "## Real-time prediction using the microphone"
   ]
  },
  {
   "cell_type": "code",
   "execution_count": null,
   "metadata": {
    "id": "mtFy7KVa7RWT"
   },
   "outputs": [],
   "source": [
    "duration = 5  # Duration of recording in seconds\n",
    "sample_rate = 16000  # Sample rate of the microphone\n",
    "\n",
    "def predict_audio(input_audio):\n",
    "    waveform = input_audio / np.abs(input_audio).max()  # Normalize waveform\n",
    "\n",
    "    # Extract features using YAMNet\n",
    "    scores, embeddings, spectrogram = model(waveform)\n",
    "    averaged_embedding = tf.reduce_mean(embeddings, axis=0).numpy()\n",
    "    input_feature = averaged_embedding.reshape(1, 1, 1, -1)\n",
    "\n",
    "    # Perform prediction using the trained CNN model\n",
    "    prediction = model_cnn.predict(input_feature)\n",
    "    predicted_label_encoded = np.argmax(prediction)\n",
    "    predicted_label = label_encoder.inverse_transform([predicted_label_encoded])\n",
    "\n",
    "    return predicted_label[0], prediction[0, predicted_label_encoded]"
   ]
  },
  {
   "cell_type": "markdown",
   "metadata": {
    "id": "D7VgES_O8AR3"
   },
   "source": [
    "## Record audio from the microphone"
   ]
  },
  {
   "cell_type": "code",
   "execution_count": null,
   "metadata": {
    "id": "ctwspBGr8CB7"
   },
   "outputs": [],
   "source": [
    "# Record audio from the default input device\n",
    "print(\"Recording audio...\")\n",
    "audio = sd.rec(int(duration * sample_rate), samplerate=sample_rate, channels=1)\n",
    "sd.wait()  # Wait for the recording to complete\n",
    "audio = audio.flatten()\n",
    "\n",
    "# Make a prediction on the recorded audio\n",
    "predicted_label, confidence = predict_audio(audio)\n",
    "print(\"Predicted Label:\", predicted_label)\n",
    "print(\"Confidence:\", confidence)"
   ]
  },
  {
   "cell_type": "markdown",
   "metadata": {
    "id": "kFdzypg2XaLM"
   },
   "source": [
    "## Load and preprocess a newly imported audio file"
   ]
  },
  {
   "cell_type": "code",
   "execution_count": null,
   "metadata": {
    "colab": {
     "base_uri": "https://localhost:8080/"
    },
    "id": "AeJOLF2KXiTE",
    "outputId": "32050926-d7d8-49f1-d5c0-f3ad21e0914f"
   },
   "outputs": [
    {
     "name": "stdout",
     "output_type": "stream",
     "text": [
      "1/1 [==============================] - 0s 149ms/step\n",
      "Predicted class: door_wood_knock\n",
      "Certainty: 49.352067708969116 %\n"
     ]
    }
   ],
   "source": [
    "new_audio_path = \"/content/gdrive/MyDrive/Colab Notebooks/KidSense/ESC-50-master/audioTests/wings.wav\"\n",
    "# Load audio data using soundfile and convert to 16-bit\n",
    "waveform_new, sample_rate_new = sf.read(new_audio_path, dtype='int16')\n",
    "\n",
    "# Check if the audio is stereo\n",
    "if waveform_new.shape[-1] == 2:\n",
    "    # Convert stereo to mono\n",
    "    waveform_new = tf.reduce_mean(waveform_new, axis=-1)\n",
    "\n",
    "waveform_new = waveform_new / tf.abs(waveform_new).numpy().max()  # Normalize waveform\n",
    "\n",
    "# Extract features using YAMNet\n",
    "scores_new, embeddings_new, spectrogram_new = model(waveform_new)\n",
    "averaged_embedding_new = tf.reduce_mean(embeddings_new, axis=0).numpy()\n",
    "\n",
    "# Reshape the feature vector for the CNN model\n",
    "feature_new_cnn = averaged_embedding_new.reshape(1, 1, 1, averaged_embedding_new.shape[0])\n",
    "\n",
    "# Classify the new audio using the trained CNN model\n",
    "predictions = my_model.predict(feature_new_cnn)\n",
    "predicted_class_index = np.argmax(predictions)\n",
    "predicted_class = label_encoder.inverse_transform([predicted_class_index])[0]\n",
    "certainty = predictions[0][predicted_class_index] * 100  # Get the certainty in percentage\n",
    "\n",
    "print(\"Predicted class:\", predicted_class)\n",
    "print(\"Certainty:\", certainty, \"%\")\n"
   ]
  },
  {
   "cell_type": "code",
   "execution_count": null,
   "metadata": {
    "id": "IibwLHqP_cte"
   },
   "outputs": [],
   "source": []
  }
 ],
 "metadata": {
  "colab": {
   "provenance": []
  },
  "kernelspec": {
   "display_name": "Python 3 (ipykernel)",
   "language": "python",
   "name": "python3"
  },
  "language_info": {
   "codemirror_mode": {
    "name": "ipython",
    "version": 3
   },
   "file_extension": ".py",
   "mimetype": "text/x-python",
   "name": "python",
   "nbconvert_exporter": "python",
   "pygments_lexer": "ipython3",
   "version": "3.9.15"
  }
 },
 "nbformat": 4,
 "nbformat_minor": 1
}
